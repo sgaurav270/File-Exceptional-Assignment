{
  "nbformat": 4,
  "nbformat_minor": 0,
  "metadata": {
    "colab": {
      "provenance": []
    },
    "kernelspec": {
      "name": "python3",
      "display_name": "Python 3"
    },
    "language_info": {
      "name": "python"
    }
  },
  "cells": [
    {
      "cell_type": "markdown",
      "source": [
        "## File Exception Handling Assingment"
      ],
      "metadata": {
        "id": "HARWSNYzvnVM"
      }
    },
    {
      "cell_type": "markdown",
      "source": [
        "1. What is the difference between interpreted and compiled languages ?\n",
        "\n",
        "    - The difference between interpreted and compiled languages mainly lies in how the code is executed, and Python is an interpreted language,Python is often categorized as an interpreted language, but there’s a twist: Python code is first compiled into bytecode (a lower-level representation) before being interpreted. This bytecode is what the Python interpreter executes. So while Python is \"technically\" interpreted, it does involve a compilation step into bytecode, but this happens behind the scenes.When you run a Python script, it’s first compiled to .pyc (Python Compiled file) or .pyo (Optimized file) before being interpreted.\n",
        "\n",
        "\n",
        "\n",
        "2. What is exception handling in Python ?\n",
        "\n",
        "    - Exception handling in Python is a way to manage errors that occur during the execution of your program so that the program doesn’t crash and can respond gracefully.\n",
        "\n",
        "\n",
        "3. What is the purpose of the finally block in exception handling ?\n",
        "\n",
        "    - The finally block in Python’s exception handling is used to define code that should always run, no matter what—whether an exception was raised or not.The finally block is your safety net—it guarantees that certain important actions are always carried out, helping prevent things like memory leaks or open file handles.\n",
        "\n",
        "\n",
        "4. What is logging in Python ?\n",
        "\n",
        "  - Logging in Python is a built-in way to record messages from your program as it runs. It's super useful for debugging, monitoring, and keeping track of errors or important events—especially in bigger applications.\n",
        "\n",
        "\n",
        "5. What is the significance of the __del__ method in Python ?\n",
        "\n",
        "  - The __del__ method in Python is a special method called a destructor. It's used to define behavior that should happen when an object is about to be destroyed—usually when it's no longer needed and Python’s garbage collector is about to clean it up.\n",
        "\n",
        "6. What is the difference between import and from ... import in Python ?\n",
        "\n",
        "    - Both import and from ... import are used to bring external modules or specific elements from modules into your Python code — but they work a bit differently.This imports the whole module, and you have to use the module name to access anything inside it.This imports specific parts (like functions, classes, or variables) from a module, so you can use them directly without the module name.\n",
        "\n",
        "7. How can you handle multiple exceptions in Python ?\n",
        "\n",
        "    - Handling multiple exceptions in Python is easy and flexible—you can either catch different types of exceptions separately or handle multiple exceptions in a single block.\n",
        "\n",
        "8. What is the purpose of the with statement when handling files in Python ?\n",
        "\n",
        "    - The with statement in Python is used to simplify working with resources like files, ensuring they are properly closed after use, even if an error occurs while you're working with them.\n",
        "\n",
        "9. What is the difference between multithreading and multiprocessing ?\n",
        "\n",
        "    - Both multithreading and multiprocessing are techniques used to achieve concurrent execution in Python, but they are suited for different types of tasks and operate in distinct ways.Multithreading Involves running multiple threads within a single process. Each thread shares the same memory space and resources. Multithreading is best for I/O-bound tasks (tasks that spend time waiting, such as file I/O, network operations, database queries, etc.), because while one thread waits for I/O, other threads can keep executing. Multiprocessing Involves running multiple processes, each with its own Python interpreter and memory space. Processes are independent of each other.Multiprocessing is ideal for CPU-heavy tasks, like complex calculations, data processing, or tasks that involve heavy computation.\n",
        "\n",
        "\n",
        "10. What are the advantages of using logging in a program ?\n",
        "\n",
        "    - Using logging in a Python program offers several advantages that make it a critical tool for both development and production environments. Here’s a rundown of the key benefits:\n",
        "\n",
        "      1. Better Debugging and Troubleshooting\n",
        "      2. Provides Insight into Program Execution\n",
        "      3. Helps in Production Environments\n",
        "      4. Easier to Track and Maintain\n",
        "      5. Flexible Control Over Output\n",
        "      6. Supports Different Log Levels\n",
        "      7. Can Be Integrated with Other Systems\n",
        "      8. Improves Code Readability and Maintainability\n",
        "      9. Enhanced Security\n",
        "      10. Supports Long-Term Monitoring and Analytics\n",
        "\n",
        "\n",
        "\n",
        "11. What is memory management in Python ?\n",
        "\n",
        "    - Memory management in Python refers to the process by which Python handles memory allocation, deallocation, and garbage collection to ensure efficient use of resources. Python, like other programming languages, needs to manage the memory used by the objects it creates during program execution, ensuring that memory is properly allocated when needed and released when no longer required.\n",
        "\n",
        "12. What are the basic steps involved in exception handling in Python ?\n",
        "\n",
        "    - In Python, exception handling is used to manage errors and other exceptional conditions that occur during the execution of a program. The goal is to catch and handle errors gracefully, without crashing the program. The basic steps involved in exception handling in Python are as follows:\n",
        "\n",
        "\n",
        "          1. Try Block:\n",
        "          2. Except Block:\n",
        "          3. Else Block\n",
        "          4. Finally Block\n",
        "\n",
        "\n",
        "\n",
        "13. Why is memory management important in Python ?\n",
        "\n",
        "    - Memory management is a crucial aspect of any programming language, including Python. Efficient memory management ensures that your program uses system resources optimally, avoids memory leaks, and performs well. In Python, memory management is mostly handled automatically, but understanding its importance and how it works can help developers write more efficient and maintainable code.\n",
        "\n",
        "          1. Efficient Resource Usage\n",
        "          2. Avoiding Memory Leaks\n",
        "          3. Garbage Collection and Reference Counting\n",
        "          4. Improving Program Stability\n",
        "          5. Large Data and Performance Optimization\n",
        "          6. Faster Execution with Memory Pools\n",
        "          7. Reducing Memory Fragmentation\n",
        "          8. Better Scalability\n",
        "          9. Helps with Code Maintenance\n",
        "          10. Preventing Resource Exhaustion\n",
        "\n",
        "14. What is the role of try and except in exception handling ?\n",
        "\n",
        "    - The try and except blocks are the core components of exception handling in Python. They allow your program to catch and handle errors gracefully, so it doesn't crash when something goes wrong during execution.The try block is where you place code that might raise an exception. It tells Python to “try” running the code, and if an error occurs, the program should look for a way to handle it.The except block handles the exception if something goes wrong in the try block. You can catch specific types of errors (like ZeroDivisionError or ValueError) or handle all exceptions generally.\n",
        "\n",
        "\n",
        "15. How does Python's garbage collection system work ?\n",
        "\n",
        "    - Python’s garbage collection system is responsible for automatically managing memory—specifically, it frees memory occupied by objects no longer in use. This allows developers to write code without needing to manually allocate and deallocate memory, like in C or C++.\n",
        "\n",
        "16. What is the purpose of the else block in exception handling ?\n",
        "\n",
        "    - The else block in Python’s exception handling is used to define code that should run only if no exception is raised in the try block.\n",
        "\n",
        "       > Purpose of the else Block:\n",
        "            \n",
        "            1. To separate error-handling code from the code that should run only when the try block succeeds.\n",
        "\n",
        "            2. It improves code readability by clearly distinguishing what happens in:\n",
        "\n",
        "              - Success case (in else)\n",
        "              - Failure case (in except)\n",
        "\n",
        "17. What are the common logging levels in Python ?\n",
        "\n",
        "    - Python's built-in logging module provides a powerful and flexible system for tracking events in your applications. One of its core features is the use of logging levels to indicate the severity or importance of a message.\n",
        "\n",
        "\n",
        "18. What is the difference between os.fork() and multiprocessing in Python ?\n",
        "\n",
        "    - Both os.fork() and the multiprocessing module are used to create new processes in Python—but they differ in how they work, how portable they are, and how much control they offer.os.fork() is a Unix-only system call that creates a child process by duplicating the current process.It returns 0 in the child process, and the child’s PID in the parent process.The multiprocessing module provides a cross-platform interface for creating and managing separate processes.It works on Windows, macOS, and Linux.Designed to avoid the Global Interpreter Lock (GIL) by running each process independently.\n",
        "\n",
        "\n",
        "19. What is the importance of closing a file in Python ?\n",
        "\n",
        "    - Closing a file in Python is very important because it ensures that all resources associated with the file are properly released. Here’s why it matters:\n",
        "\n",
        "          1. Flushes Data to Disk\n",
        "          2. Frees System Resources\n",
        "          3. Prevents File Corruption or Locking Issues\n",
        "          4. Ensures Clean, Predictable Code\n",
        "          \n",
        "\n",
        "20. What is the difference between file.read() and file.readline() in Python ?\n",
        "\n",
        "      - file.read() and file.readline() are used to read data from a file in Python, but they behave differently in how much data they read and how they operate.\n",
        "\n",
        "            🔹 file.read()\n",
        "\n",
        "                    1. Reads the entire file content (or up to a specified number of characters) as a single string.\n",
        "                    2. It moves the file pointer to the end of the file (or the specified number of characters).\n",
        "                    3. Useful when you want to process the whole file at once.\n",
        "\n",
        "            🔹 file.readline()\n",
        "\n",
        "                    1. Reads just one line from the file at a time.\n",
        "                    2. Returns the line as a string (including the newline \\n if present).\n",
        "                    3. Useful when reading large files line-by-line or processing line-specific logic.\n",
        "\n",
        "\n",
        "21. What is the logging module in Python used for ?\n",
        "\n",
        "    - The logging module in Python is used to track events that happen while your program runs — it's a powerful tool for debugging, monitoring, and keeping records of your application’s behavior.\n",
        "\n",
        "22. What is the os module in Python used for in file handling ?\n",
        "\n",
        "     - The os module in Python is used to interact with the operating system, and it provides powerful functions for file handling and directory management.\n",
        "\n",
        "23. What are the challenges associated with memory management in Python ?\n",
        "\n",
        "    - Python provides automatic memory management, there are still a few challenges and pitfalls developers may run into. Understanding them helps you write more efficient, reliable code.\n",
        "\n",
        "            1. Circular References\n",
        "            2. Memory Leaks\n",
        "            3. Large Data Structures\n",
        "            4. Lack of Manual Control\n",
        "            5. Hidden Object Retention\n",
        "            6. Fragmentation and Overhead\n",
        "\n",
        "24. How do you raise an exception manually in Python ?\n",
        "\n",
        "    - In Python, you can raise an exception manually using the raise keyword. This allows you to trigger an exception intentionally in your code, typically to signal that something unexpected or erroneous has occurred. You can raise a built-in exception or a custom exception.\n",
        "\n",
        "25. Why is it important to use multithreading in certain applications ?\n",
        "\n",
        "    - Using multithreading in certain applications is important because it can significantly improve performance and efficiency, especially in scenarios that involve tasks that can be run concurrently. By allowing multiple threads to run in parallel, you can maximize the utilization of CPU resources and improve responsiveness.\n",
        "    \n",
        "\n",
        "\n",
        "\n",
        "\n",
        "\n",
        "\n",
        "\n",
        "\n"
      ],
      "metadata": {
        "id": "0b0f_t3Kvrn9"
      }
    },
    {
      "cell_type": "code",
      "execution_count": 2,
      "metadata": {
        "id": "bvO0_GxhvjE7"
      },
      "outputs": [],
      "source": [
        "# 1. How can you open a file for writing in Python and write a string to it ?\n",
        "\n",
        "# Open a file in write mode ('w')\n",
        "with open('example.txt', 'w') as file:\n",
        "    # Write a string to the file\n",
        "    file.write(\"Hello, world! This is a string written to the file.\")\n"
      ]
    },
    {
      "cell_type": "code",
      "source": [
        "# 2. Write a Python program to read the contents of a file and print each line ?\n",
        "\n",
        "    # Open the file in read mode ('r')\n",
        "with open('example.txt', 'r') as file:\n",
        "    # Loop through each line in the file\n",
        "    for line in file:\n",
        "        print(line.strip())  # .strip() removes any extra newline characters at the end\n"
      ],
      "metadata": {
        "colab": {
          "base_uri": "https://localhost:8080/"
        },
        "id": "M9N8qm86Es2-",
        "outputId": "2633e57c-fb15-4f70-b969-9453ca71b9be"
      },
      "execution_count": 3,
      "outputs": [
        {
          "output_type": "stream",
          "name": "stdout",
          "text": [
            "Hello, world! This is a string written to the file.\n"
          ]
        }
      ]
    },
    {
      "cell_type": "code",
      "source": [
        "# 3. How would you handle a case where the file doesn't exist while trying to open it for reading ?\n",
        "\n",
        "try:\n",
        "    # Try to open the file in read mode\n",
        "    with open('example.txt', 'r') as file:\n",
        "        # Read and print each line in the file\n",
        "        for line in file:\n",
        "            print(line.strip())\n",
        "except FileNotFoundError:\n",
        "    # Handle the case where the file doesn't exist\n",
        "    print(\"Error: The file does not exist.\")\n"
      ],
      "metadata": {
        "colab": {
          "base_uri": "https://localhost:8080/"
        },
        "id": "uAFKxdU0E5H8",
        "outputId": "f52263a5-5144-4fdc-c31a-e744a5aaf703"
      },
      "execution_count": 5,
      "outputs": [
        {
          "output_type": "stream",
          "name": "stdout",
          "text": [
            "Hello, world! This is a string written to the file.\n"
          ]
        }
      ]
    },
    {
      "cell_type": "code",
      "source": [
        "# 4. Write a Python script that reads from one file and writes its content to another file ?\n",
        "\n",
        "# Create the source file if it doesn't exist and add some content to it\n",
        "with open('source_file.txt', 'w') as source_file:\n",
        "    source_file.write(\"This is the content of the source file.\\n\")\n",
        "    source_file.write(\"It will be copied to the destination file.\")\n",
        "\n",
        "# Open the source file in read mode ('r')\n",
        "with open('source_file.txt', 'r') as source_file:\n",
        "    # Open the destination file in write mode ('w')\n",
        "    with open('destination_file.txt', 'w') as dest_file:\n",
        "        # Read the content of the source file and write it to the destination file\n",
        "        content = source_file.read()  # Read the entire content of the source file\n",
        "        dest_file.write(content)  # Write the content to the destination file"
      ],
      "metadata": {
        "id": "XqEdorwsFiWd"
      },
      "execution_count": 8,
      "outputs": []
    },
    {
      "cell_type": "code",
      "source": [
        "# 5. How would you catch and handle division by zero error in Python ?\n",
        "\n",
        "try:\n",
        "    # Attempt to divide by zero\n",
        "    numerator = 10\n",
        "    denominator = 0\n",
        "    result = numerator / denominator\n",
        "except ZeroDivisionError:\n",
        "    # Handle the error gracefully\n",
        "    print(\"Error: Cannot divide by zero!\")\n",
        "else:\n",
        "    # This block runs if no exception occurred\n",
        "    print(f\"The result is: {result}\")\n",
        "finally:\n",
        "    # This block runs no matter what\n",
        "    print(\"Division attempt completed.\")"
      ],
      "metadata": {
        "colab": {
          "base_uri": "https://localhost:8080/"
        },
        "id": "_lhq-snUF8Se",
        "outputId": "021ac2ab-29db-4004-8315-60874367accd"
      },
      "execution_count": 11,
      "outputs": [
        {
          "output_type": "stream",
          "name": "stdout",
          "text": [
            "Error: Cannot divide by zero!\n",
            "Division attempt completed.\n"
          ]
        }
      ]
    },
    {
      "cell_type": "code",
      "source": [
        "# 6. Write a Python program that logs an error message to a log file when a division by zero exception occurs ?\n",
        "\n",
        "\n",
        "import logging\n",
        "\n",
        "# Set up the logging configuration\n",
        "logging.basicConfig(\n",
        "    filename='error_log.txt',  # Log will be saved in this file\n",
        "    level=logging.ERROR,       # Log only errors and higher severity\n",
        "    format='%(asctime)s - %(levelname)s - %(message)s'  # Include timestamp and log level\n",
        ")\n",
        "\n",
        "try:\n",
        "    # Attempt to divide by zero\n",
        "    numerator = 10\n",
        "    denominator = 0\n",
        "    result = numerator / denominator\n",
        "except ZeroDivisionError as e:\n",
        "    # Log the error to the log file\n",
        "    logging.error(f\"Division by zero error: {e}\")\n",
        "    print(\"An error occurred. Check the log file for details.\")\n",
        "finally:\n",
        "    # Optionally, this can contain cleanup or final steps\n",
        "    print(\"Division attempt completed.\")\n"
      ],
      "metadata": {
        "colab": {
          "base_uri": "https://localhost:8080/"
        },
        "id": "yknLq2IxGFbF",
        "outputId": "b91f9d56-1ec2-4f8d-ca38-159044f147a2"
      },
      "execution_count": 12,
      "outputs": [
        {
          "output_type": "stream",
          "name": "stderr",
          "text": [
            "ERROR:root:Division by zero error: division by zero\n"
          ]
        },
        {
          "output_type": "stream",
          "name": "stdout",
          "text": [
            "An error occurred. Check the log file for details.\n",
            "Division attempt completed.\n"
          ]
        }
      ]
    },
    {
      "cell_type": "code",
      "source": [
        "# 7. How do you log information at different levels (INFO, ERROR, WARNING) in Python using the logging module ?\n",
        "\n",
        "import logging\n",
        "\n",
        "# Set up the logging configuration\n",
        "logging.basicConfig(\n",
        "    filename='app.log',  # Log will be saved in this file\n",
        "    level=logging.DEBUG,  # Log all levels DEBUG and above\n",
        "    format='%(asctime)s - %(levelname)s - %(message)s'  # Include timestamp and log level\n",
        ")\n",
        "\n",
        "# Logging messages at different levels\n",
        "logging.debug('This is a debug message.')\n",
        "logging.info('This is an info message.')\n",
        "logging.warning('This is a warning message.')\n",
        "logging.error('This is an error message.')\n",
        "logging.critical('This is a critical message.')\n"
      ],
      "metadata": {
        "colab": {
          "base_uri": "https://localhost:8080/"
        },
        "id": "uA-dbQ-aLlUi",
        "outputId": "0f2dc257-9266-4b1c-c82b-6fc9d021331a"
      },
      "execution_count": 13,
      "outputs": [
        {
          "output_type": "stream",
          "name": "stderr",
          "text": [
            "WARNING:root:This is a warning message.\n",
            "ERROR:root:This is an error message.\n",
            "CRITICAL:root:This is a critical message.\n"
          ]
        }
      ]
    },
    {
      "cell_type": "code",
      "source": [
        "# 8. Write a program to handle a file opening error using exception handling ?\n",
        "\n",
        "try:\n",
        "    # Attempt to open a file\n",
        "    file_name = 'example.txt'  # Replace with your file path\n",
        "    with open(file_name, 'r') as file:\n",
        "        # Read and print the content of the file\n",
        "        content = file.read()\n",
        "        print(content)\n",
        "\n",
        "except FileNotFoundError:\n",
        "    # Handle the case where the file does not exist\n",
        "    print(f\"Error: The file '{file_name}' does not exist.\")\n",
        "\n",
        "except PermissionError:\n",
        "    # Handle the case where there is no permission to open the file\n",
        "    print(f\"Error: You do not have permission to open the file '{file_name}'.\")\n",
        "\n",
        "except Exception as e:\n",
        "    # Handle any other unexpected exceptions\n",
        "    print(f\"An unexpected error occurred: {e}\")\n",
        "\n",
        "finally:\n",
        "    # This block always executes, regardless of whether an exception occurred or not\n",
        "    print(\"File opening attempt finished.\")\n"
      ],
      "metadata": {
        "colab": {
          "base_uri": "https://localhost:8080/"
        },
        "id": "C6Vlk_p9LzaA",
        "outputId": "80250c33-dba8-4cfa-8491-3be9f77b16fb"
      },
      "execution_count": 14,
      "outputs": [
        {
          "output_type": "stream",
          "name": "stdout",
          "text": [
            "Hello, world! This is a string written to the file.\n",
            "File opening attempt finished.\n"
          ]
        }
      ]
    },
    {
      "cell_type": "code",
      "source": [
        "# 9. How can you read a file line by line and store its content in a list in Python ?\n",
        "\n",
        "    # Initialize an empty list to store the lines\n",
        "lines = []\n",
        "\n",
        "try:\n",
        "    # Open the file in read mode\n",
        "    with open('example.txt', 'r') as file:\n",
        "        # Read each line and append to the list\n",
        "        for line in file:\n",
        "            lines.append(line.strip())  # Use .strip() to remove trailing newline characters\n",
        "\n",
        "    # Print the list with all the lines from the file\n",
        "    print(lines)\n",
        "\n",
        "except FileNotFoundError:\n",
        "    print(\"Error: The file does not exist.\")\n",
        "except Exception as e:\n",
        "    print(f\"An error occurred: {e}\")\n"
      ],
      "metadata": {
        "colab": {
          "base_uri": "https://localhost:8080/"
        },
        "id": "k5MIbpT1L-PP",
        "outputId": "787587ec-5b9c-4a9b-9e8c-f0fc1ea6f2ee"
      },
      "execution_count": 15,
      "outputs": [
        {
          "output_type": "stream",
          "name": "stdout",
          "text": [
            "['Hello, world! This is a string written to the file.']\n"
          ]
        }
      ]
    },
    {
      "cell_type": "code",
      "source": [
        "# 10. How can you append data to an existing file in Python ?\n",
        "\n",
        "        # Data to append to the file\n",
        "data_to_append = \"This is new data that will be appended to the file.\\n\"\n",
        "\n",
        "try:\n",
        "    # Open the file in append mode ('a')\n",
        "    with open('example.txt', 'a') as file:\n",
        "        # Append the data to the file\n",
        "        file.write(data_to_append)\n",
        "    print(\"Data successfully appended to the file.\")\n",
        "except Exception as e:\n",
        "    print(f\"An error occurred: {e}\")\n"
      ],
      "metadata": {
        "colab": {
          "base_uri": "https://localhost:8080/"
        },
        "id": "yIFbm9X3MGJA",
        "outputId": "bfd508b7-8172-4b27-b634-4004834f75ae"
      },
      "execution_count": 16,
      "outputs": [
        {
          "output_type": "stream",
          "name": "stdout",
          "text": [
            "Data successfully appended to the file.\n"
          ]
        }
      ]
    },
    {
      "cell_type": "code",
      "source": [
        "# 11. Write a Python program that uses a try-except block to handle an error when attempting to access adictionary key that doesn't exist ?\n",
        "\n",
        "    # Sample dictionary\n",
        "my_dict = {\n",
        "    \"name\": \"John\",\n",
        "    \"age\": 30,\n",
        "    \"city\": \"New York\"\n",
        "}\n",
        "\n",
        "try:\n",
        "    # Attempt to access a key that may not exist\n",
        "    key_to_access = \"address\"\n",
        "    value = my_dict[key_to_access]\n",
        "    print(f\"The value of '{key_to_access}' is: {value}\")\n",
        "\n",
        "except KeyError:\n",
        "    # Handle the case where the key does not exist in the dictionary\n",
        "    print(f\"Error: The key '{key_to_access}' does not exist in the dictionary.\")\n",
        "\n",
        "finally:\n",
        "    # This block always executes, regardless of whether an exception occurred or not\n",
        "    print(\"Attempted to access a key in the dictionary.\")\n"
      ],
      "metadata": {
        "colab": {
          "base_uri": "https://localhost:8080/"
        },
        "id": "VESzP0P6MOPb",
        "outputId": "9e733ef0-3082-429a-f92f-f0bd5edfc09e"
      },
      "execution_count": 17,
      "outputs": [
        {
          "output_type": "stream",
          "name": "stdout",
          "text": [
            "Error: The key 'address' does not exist in the dictionary.\n",
            "Attempted to access a key in the dictionary.\n"
          ]
        }
      ]
    },
    {
      "cell_type": "code",
      "source": [
        "# 12. Write a program that demonstrates using multiple except blocks to handle different types of exceptions ?\n",
        "\n",
        "def divide_numbers():\n",
        "    try:\n",
        "        # Get user input\n",
        "        num1 = int(input(\"Enter the first number: \"))\n",
        "        num2 = int(input(\"Enter the second number: \"))\n",
        "\n",
        "        # Attempt to divide\n",
        "        result = num1 / num2\n",
        "        print(f\"The result of {num1} divided by {num2} is: {result}\")\n",
        "\n",
        "    except ZeroDivisionError:\n",
        "        # Handle division by zero error\n",
        "        print(\"Error: Cannot divide by zero!\")\n",
        "\n",
        "    except ValueError:\n",
        "        # Handle invalid input (e.g., not a number)\n",
        "        print(\"Error: Please enter valid integers!\")\n",
        "\n",
        "    except Exception as e:\n",
        "        # Catch any other exceptions\n",
        "        print(f\"An unexpected error occurred: {e}\")\n",
        "\n",
        "    finally:\n",
        "        # This block will always run, regardless of exceptions\n",
        "        print(\"Division attempt complete.\")\n",
        "\n",
        "# Call the function to test the program\n",
        "divide_numbers()\n"
      ],
      "metadata": {
        "colab": {
          "base_uri": "https://localhost:8080/"
        },
        "id": "memLb3AhMZ6M",
        "outputId": "eaf4f93a-59ca-424c-cf61-7d075306e545"
      },
      "execution_count": 18,
      "outputs": [
        {
          "output_type": "stream",
          "name": "stdout",
          "text": [
            "Enter the first number: 4\n",
            "Enter the second number: 2\n",
            "The result of 4 divided by 2 is: 2.0\n",
            "Division attempt complete.\n"
          ]
        }
      ]
    },
    {
      "cell_type": "code",
      "source": [
        "# 13. How would you check if a file exists before attempting to read it in Python ?\n",
        "\n",
        "from pathlib import Path\n",
        "\n",
        "file_path = Path('example.txt')\n",
        "\n",
        "# Check if the file exists\n",
        "if file_path.exists():\n",
        "    try:\n",
        "        with file_path.open('r') as file:\n",
        "            content = file.read()\n",
        "            print(content)\n",
        "    except Exception as e:\n",
        "        print(f\"Error while reading the file: {e}\")\n",
        "else:\n",
        "    print(f\"Error: The file '{file_path}' does not exist.\")\n"
      ],
      "metadata": {
        "colab": {
          "base_uri": "https://localhost:8080/"
        },
        "id": "zD1kxvI6MnyE",
        "outputId": "8db7b19e-8742-4b65-cee9-a137f37eb869"
      },
      "execution_count": 19,
      "outputs": [
        {
          "output_type": "stream",
          "name": "stdout",
          "text": [
            "Hello, world! This is a string written to the file.This is new data that will be appended to the file.\n",
            "\n"
          ]
        }
      ]
    },
    {
      "cell_type": "code",
      "source": [
        "#14. Write a program that uses the logging module to log both informational and error messages ?\n",
        "\n",
        "import logging\n",
        "\n",
        "# Configure the logging system\n",
        "logging.basicConfig(\n",
        "    level=logging.DEBUG,  # Set the logging level to capture all levels (DEBUG and above)\n",
        "    format='%(asctime)s - %(levelname)s - %(message)s',  # Log format with timestamp, level, and message\n",
        "    handlers=[\n",
        "        logging.FileHandler('app.log'),  # Log messages to a file\n",
        "        logging.StreamHandler()  # Log messages to the console\n",
        "    ]\n",
        ")\n",
        "\n",
        "# Log an informational message\n",
        "logging.info(\"This is an informational message.\")\n",
        "\n",
        "# Simulate some operations and log another informational message\n",
        "try:\n",
        "    x = 10\n",
        "    y = 0\n",
        "    logging.info(f\"Attempting to divide {x} by {y}.\")\n",
        "    result = x / y  # This will raise a ZeroDivisionError\n",
        "except ZeroDivisionError as e:\n",
        "    logging.error(f\"Error: {e} - Cannot divide by zero.\")\n",
        "\n",
        "# Log another informational message\n",
        "logging.info(\"The program is continuing after handling the error.\")\n",
        "\n"
      ],
      "metadata": {
        "colab": {
          "base_uri": "https://localhost:8080/"
        },
        "id": "s2ZTIiVUM3KE",
        "outputId": "53ea84a2-fae5-4087-b40f-361516ea9e7d"
      },
      "execution_count": 20,
      "outputs": [
        {
          "output_type": "stream",
          "name": "stderr",
          "text": [
            "ERROR:root:Error: division by zero - Cannot divide by zero.\n"
          ]
        }
      ]
    },
    {
      "cell_type": "code",
      "source": [
        "# 15.  Write a Python program that prints the content of a file and handles the case when the file is empty ?\n",
        "\n",
        "def print_file_content(file_path):\n",
        "    try:\n",
        "        # Open the file in read mode\n",
        "        with open(file_path, 'r') as file:\n",
        "            content = file.read()\n",
        "\n",
        "            # Check if the file is empty\n",
        "            if not content:\n",
        "                print(f\"The file '{file_path}' is empty.\")\n",
        "            else:\n",
        "                print(f\"Content of the file '{file_path}':\\n{content}\")\n",
        "\n",
        "    except FileNotFoundError:\n",
        "        print(f\"Error: The file '{file_path}' does not exist.\")\n",
        "    except Exception as e:\n",
        "        print(f\"An unexpected error occurred: {e}\")\n",
        "\n",
        "# Specify the file path\n",
        "file_path = 'example.txt'\n",
        "\n",
        "# Call the function to print file content\n",
        "print_file_content(file_path)\n"
      ],
      "metadata": {
        "colab": {
          "base_uri": "https://localhost:8080/"
        },
        "id": "Z0JOviF6NAIM",
        "outputId": "76ae7e1e-8eaf-42f1-ac61-23a95f15e7ae"
      },
      "execution_count": 21,
      "outputs": [
        {
          "output_type": "stream",
          "name": "stdout",
          "text": [
            "Content of the file 'example.txt':\n",
            "Hello, world! This is a string written to the file.This is new data that will be appended to the file.\n",
            "\n"
          ]
        }
      ]
    },
    {
      "cell_type": "code",
      "source": [
        "# 16. Demonstrate how to use memory profiling to check the memory usage of a small program ?\n",
        "\n",
        "!pip install memory_profiler\n",
        "from memory_profiler import profile\n",
        "\n",
        "@profile\n",
        "def create_large_list():\n",
        "    # Create a large list to simulate memory usage\n",
        "    big_list = [i for i in range(1000000)]\n",
        "    return big_list\n",
        "\n",
        "if __name__ == \"__main__\":\n",
        "    create_large_list()\n",
        "@profile\n",
        "def create_large_list():\n",
        "    # Create a large list to simulate memory usage\n",
        "    big_list = [i for i in range(1000000)]\n",
        "    return big_list\n",
        "\n",
        "if __name__ == \"__main__\":\n",
        "    create_large_list()\n",
        "\n"
      ],
      "metadata": {
        "colab": {
          "base_uri": "https://localhost:8080/"
        },
        "id": "pq6aiV3KNJlD",
        "outputId": "afea3088-6dc4-4a40-b8c7-ddb2b39b9e6a"
      },
      "execution_count": 23,
      "outputs": [
        {
          "output_type": "stream",
          "name": "stdout",
          "text": [
            "Collecting memory_profiler\n",
            "  Downloading memory_profiler-0.61.0-py3-none-any.whl.metadata (20 kB)\n",
            "Requirement already satisfied: psutil in /usr/local/lib/python3.11/dist-packages (from memory_profiler) (5.9.5)\n",
            "Downloading memory_profiler-0.61.0-py3-none-any.whl (31 kB)\n",
            "Installing collected packages: memory_profiler\n",
            "Successfully installed memory_profiler-0.61.0\n"
          ]
        },
        {
          "output_type": "stream",
          "name": "stderr",
          "text": [
            "\n",
            "PYDEV DEBUGGER WARNING:\n",
            "sys.settrace() should not be used when the debugger is being used.\n",
            "This may cause the debugger to stop working correctly.\n",
            "If this is needed, please check: \n",
            "http://pydev.blogspot.com/2007/06/why-cant-pydev-debugger-work-with.html\n",
            "to see how to restore the debug tracing back correctly.\n",
            "Call Location:\n",
            "  File \"/usr/local/lib/python3.11/dist-packages/memory_profiler.py\", line 847, in enable\n",
            "    sys.settrace(self.trace_memory_usage)\n",
            "\n"
          ]
        },
        {
          "output_type": "stream",
          "name": "stdout",
          "text": [
            "ERROR: Could not find file <ipython-input-23-ea40e7c55093>\n",
            "NOTE: %mprun can only be used on functions defined in physical files, and not in the IPython environment.\n"
          ]
        },
        {
          "output_type": "stream",
          "name": "stderr",
          "text": [
            "\n",
            "PYDEV DEBUGGER WARNING:\n",
            "sys.settrace() should not be used when the debugger is being used.\n",
            "This may cause the debugger to stop working correctly.\n",
            "If this is needed, please check: \n",
            "http://pydev.blogspot.com/2007/06/why-cant-pydev-debugger-work-with.html\n",
            "to see how to restore the debug tracing back correctly.\n",
            "Call Location:\n",
            "  File \"/usr/local/lib/python3.11/dist-packages/memory_profiler.py\", line 850, in disable\n",
            "    sys.settrace(self._original_trace_function)\n",
            "\n"
          ]
        },
        {
          "output_type": "stream",
          "name": "stdout",
          "text": [
            "ERROR: Could not find file <ipython-input-23-ea40e7c55093>\n",
            "NOTE: %mprun can only be used on functions defined in physical files, and not in the IPython environment.\n"
          ]
        }
      ]
    },
    {
      "cell_type": "code",
      "source": [
        "# 17. Write a Python program to create and write a list of numbers to a file, one number per line ?\n",
        "\n",
        "    # Define a list of numbers\n",
        "numbers = [10, 20, 30, 40, 50]\n",
        "\n",
        "# Specify the file name\n",
        "file_name = 'numbers.txt'\n",
        "\n",
        "try:\n",
        "    # Open the file in write mode\n",
        "    with open(file_name, 'w') as file:\n",
        "        for number in numbers:\n",
        "            file.write(f\"{number}\\n\")  # Write each number followed by a newline\n",
        "    print(f\"Successfully wrote {len(numbers)} numbers to '{file_name}'.\")\n",
        "except Exception as e:\n",
        "    print(f\"An error occurred: {e}\")\n",
        "\n",
        "\n",
        "\n"
      ],
      "metadata": {
        "colab": {
          "base_uri": "https://localhost:8080/"
        },
        "id": "kxkL6EmTN-Qf",
        "outputId": "b96e8989-1412-49ad-866c-2566fb5c1000"
      },
      "execution_count": 25,
      "outputs": [
        {
          "output_type": "stream",
          "name": "stdout",
          "text": [
            "Successfully wrote 5 numbers to 'numbers.txt'.\n"
          ]
        }
      ]
    },
    {
      "cell_type": "code",
      "source": [
        "# 18. How would you implement a basic logging setup that logs to a file with rotation after 1MB ?\n",
        "\n",
        "import logging\n",
        "from logging.handlers import RotatingFileHandler\n",
        "\n",
        "# Configure logging\n",
        "logger = logging.getLogger('my_logger')\n",
        "logger.setLevel(logging.DEBUG)\n",
        "\n",
        "# Create a rotating file handler\n",
        "handler = RotatingFileHandler(\n",
        "    'app.log',              # Log file name\n",
        "    maxBytes=1_000_000,     # Rotate after 1MB\n",
        "    backupCount=5           # Keep up to 5 old log files (app.log.1, app.log.2, ...)\n",
        ")\n",
        "\n",
        "# Set log format\n",
        "formatter = logging.Formatter('%(asctime)s - %(levelname)s - %(message)s')\n",
        "handler.setFormatter(formatter)\n",
        "\n",
        "# Add handler to logger\n",
        "logger.addHandler(handler)\n",
        "\n",
        "# Example log messages\n",
        "for i in range(100):\n",
        "    logger.info(f\"This is log message number {i}\")\n"
      ],
      "metadata": {
        "colab": {
          "base_uri": "https://localhost:8080/"
        },
        "id": "V0d-coDxOdQ6",
        "outputId": "14ac4d80-0b4a-4389-f761-7c6d429b6653"
      },
      "execution_count": 28,
      "outputs": [
        {
          "output_type": "stream",
          "name": "stderr",
          "text": [
            "INFO:my_logger:This is log message number 0\n",
            "INFO:my_logger:This is log message number 1\n",
            "INFO:my_logger:This is log message number 2\n",
            "INFO:my_logger:This is log message number 3\n",
            "INFO:my_logger:This is log message number 4\n",
            "INFO:my_logger:This is log message number 5\n",
            "INFO:my_logger:This is log message number 6\n",
            "INFO:my_logger:This is log message number 7\n",
            "INFO:my_logger:This is log message number 8\n",
            "INFO:my_logger:This is log message number 9\n",
            "INFO:my_logger:This is log message number 10\n",
            "INFO:my_logger:This is log message number 11\n",
            "INFO:my_logger:This is log message number 12\n",
            "INFO:my_logger:This is log message number 13\n",
            "INFO:my_logger:This is log message number 14\n",
            "INFO:my_logger:This is log message number 15\n",
            "INFO:my_logger:This is log message number 16\n",
            "INFO:my_logger:This is log message number 17\n",
            "INFO:my_logger:This is log message number 18\n",
            "INFO:my_logger:This is log message number 19\n",
            "INFO:my_logger:This is log message number 20\n",
            "INFO:my_logger:This is log message number 21\n",
            "INFO:my_logger:This is log message number 22\n",
            "INFO:my_logger:This is log message number 23\n",
            "INFO:my_logger:This is log message number 24\n",
            "INFO:my_logger:This is log message number 25\n",
            "INFO:my_logger:This is log message number 26\n",
            "INFO:my_logger:This is log message number 27\n",
            "INFO:my_logger:This is log message number 28\n",
            "INFO:my_logger:This is log message number 29\n",
            "INFO:my_logger:This is log message number 30\n",
            "INFO:my_logger:This is log message number 31\n",
            "INFO:my_logger:This is log message number 32\n",
            "INFO:my_logger:This is log message number 33\n",
            "INFO:my_logger:This is log message number 34\n",
            "INFO:my_logger:This is log message number 35\n",
            "INFO:my_logger:This is log message number 36\n",
            "INFO:my_logger:This is log message number 37\n",
            "INFO:my_logger:This is log message number 38\n",
            "INFO:my_logger:This is log message number 39\n",
            "INFO:my_logger:This is log message number 40\n",
            "INFO:my_logger:This is log message number 41\n",
            "INFO:my_logger:This is log message number 42\n",
            "INFO:my_logger:This is log message number 43\n",
            "INFO:my_logger:This is log message number 44\n",
            "INFO:my_logger:This is log message number 45\n",
            "INFO:my_logger:This is log message number 46\n",
            "INFO:my_logger:This is log message number 47\n",
            "INFO:my_logger:This is log message number 48\n",
            "INFO:my_logger:This is log message number 49\n",
            "INFO:my_logger:This is log message number 50\n",
            "INFO:my_logger:This is log message number 51\n",
            "INFO:my_logger:This is log message number 52\n",
            "INFO:my_logger:This is log message number 53\n",
            "INFO:my_logger:This is log message number 54\n",
            "INFO:my_logger:This is log message number 55\n",
            "INFO:my_logger:This is log message number 56\n",
            "INFO:my_logger:This is log message number 57\n",
            "INFO:my_logger:This is log message number 58\n",
            "INFO:my_logger:This is log message number 59\n",
            "INFO:my_logger:This is log message number 60\n",
            "INFO:my_logger:This is log message number 61\n",
            "INFO:my_logger:This is log message number 62\n",
            "INFO:my_logger:This is log message number 63\n",
            "INFO:my_logger:This is log message number 64\n",
            "INFO:my_logger:This is log message number 65\n",
            "INFO:my_logger:This is log message number 66\n",
            "INFO:my_logger:This is log message number 67\n",
            "INFO:my_logger:This is log message number 68\n",
            "INFO:my_logger:This is log message number 69\n",
            "INFO:my_logger:This is log message number 70\n",
            "INFO:my_logger:This is log message number 71\n",
            "INFO:my_logger:This is log message number 72\n",
            "INFO:my_logger:This is log message number 73\n",
            "INFO:my_logger:This is log message number 74\n",
            "INFO:my_logger:This is log message number 75\n",
            "INFO:my_logger:This is log message number 76\n",
            "INFO:my_logger:This is log message number 77\n",
            "INFO:my_logger:This is log message number 78\n",
            "INFO:my_logger:This is log message number 79\n",
            "INFO:my_logger:This is log message number 80\n",
            "INFO:my_logger:This is log message number 81\n",
            "INFO:my_logger:This is log message number 82\n",
            "INFO:my_logger:This is log message number 83\n",
            "INFO:my_logger:This is log message number 84\n",
            "INFO:my_logger:This is log message number 85\n",
            "INFO:my_logger:This is log message number 86\n",
            "INFO:my_logger:This is log message number 87\n",
            "INFO:my_logger:This is log message number 88\n",
            "INFO:my_logger:This is log message number 89\n",
            "INFO:my_logger:This is log message number 90\n",
            "INFO:my_logger:This is log message number 91\n",
            "INFO:my_logger:This is log message number 92\n",
            "INFO:my_logger:This is log message number 93\n",
            "INFO:my_logger:This is log message number 94\n",
            "INFO:my_logger:This is log message number 95\n",
            "INFO:my_logger:This is log message number 96\n",
            "INFO:my_logger:This is log message number 97\n",
            "INFO:my_logger:This is log message number 98\n",
            "INFO:my_logger:This is log message number 99\n"
          ]
        }
      ]
    },
    {
      "cell_type": "code",
      "source": [
        "# 19.  Write a program that handles both IndexError and KeyError using a try-except block ?\n",
        "\n",
        "def handle_errors():\n",
        "    my_list = [1, 2, 3]\n",
        "    my_dict = {'a': 100, 'b': 200}\n",
        "\n",
        "    try:\n",
        "        # Try to access an index that doesn't exist\n",
        "        print(\"List value:\", my_list[5])  # IndexError\n",
        "\n",
        "        # Try to access a dictionary key that doesn't exist\n",
        "        print(\"Dict value:\", my_dict['z'])  # KeyError\n",
        "\n",
        "    except IndexError:\n",
        "        print(\"IndexError caught: Tried to access an index that does not exist in the list.\")\n",
        "\n",
        "    except KeyError:\n",
        "        print(\"KeyError caught: Tried to access a key that does not exist in the dictionary.\")\n",
        "\n",
        "# Run the function\n",
        "handle_errors()\n"
      ],
      "metadata": {
        "colab": {
          "base_uri": "https://localhost:8080/"
        },
        "id": "46uU5WiCO9ZD",
        "outputId": "a6585f4b-31af-45e9-f32f-098cf98f7655"
      },
      "execution_count": 29,
      "outputs": [
        {
          "output_type": "stream",
          "name": "stdout",
          "text": [
            "IndexError caught: Tried to access an index that does not exist in the list.\n"
          ]
        }
      ]
    },
    {
      "cell_type": "code",
      "source": [
        "# 20. How would you open a file and read its contents using a context manager in Python ?\n",
        "\n",
        "file_path = 'example.txt'\n",
        "\n",
        "try:\n",
        "    with open(file_path, 'r') as file:\n",
        "        contents = file.read()\n",
        "        print(\"File contents:\\n\", contents)\n",
        "except FileNotFoundError:\n",
        "    print(f\"Error: The file '{file_path}' does not exist.\")\n"
      ],
      "metadata": {
        "colab": {
          "base_uri": "https://localhost:8080/"
        },
        "id": "ODSE24nrPJXc",
        "outputId": "1c905a0c-c688-4d29-d8cc-1b9ae385627d"
      },
      "execution_count": 30,
      "outputs": [
        {
          "output_type": "stream",
          "name": "stdout",
          "text": [
            "File contents:\n",
            " Hello, world! This is a string written to the file.This is new data that will be appended to the file.\n",
            "\n"
          ]
        }
      ]
    },
    {
      "cell_type": "code",
      "source": [
        "# 21. Write a Python program that reads a file and prints the number of occurrences of a specific word ?\n",
        "\n",
        "def count_word_occurrences(file_path, word_to_count):\n",
        "    try:\n",
        "        with open(file_path, 'r') as file:\n",
        "            content = file.read().lower()  # Read and convert to lowercase for case-insensitive search\n",
        "            word_count = content.split().count(word_to_count.lower())\n",
        "            print(f\"The word '{word_to_count}' occurred {word_count} times in '{file_path}'.\")\n",
        "    except FileNotFoundError:\n",
        "        print(f\"Error: The file '{file_path}' does not exist.\")\n",
        "    except Exception as e:\n",
        "        print(f\"An unexpected error occurred: {e}\")\n",
        "\n",
        "# Example usage\n",
        "file_path = 'example.txt'\n",
        "word = 'python'\n",
        "count_word_occurrences(file_path, word)\n"
      ],
      "metadata": {
        "colab": {
          "base_uri": "https://localhost:8080/"
        },
        "id": "MwP_cNfhPVXA",
        "outputId": "61533661-0ab8-46aa-aced-c905bd6c13cc"
      },
      "execution_count": 31,
      "outputs": [
        {
          "output_type": "stream",
          "name": "stdout",
          "text": [
            "The word 'python' occurred 0 times in 'example.txt'.\n"
          ]
        }
      ]
    },
    {
      "cell_type": "code",
      "source": [
        "# 22. How can you check if a file is empty before attempting to read its contents ?\n",
        "\n",
        "import os\n",
        "\n",
        "file_path = 'example.txt'\n",
        "\n",
        "if os.path.exists(file_path) and os.stat(file_path).st_size == 0:\n",
        "    print(\"The file is empty.\")\n",
        "else:\n",
        "    with open(file_path, 'r') as file:\n",
        "        contents = file.read()\n",
        "        print(\"File contents:\\n\", contents)\n"
      ],
      "metadata": {
        "colab": {
          "base_uri": "https://localhost:8080/"
        },
        "id": "sdVbfFYDPkYZ",
        "outputId": "e8779ae6-5a14-487d-9f10-e991df7a7e42"
      },
      "execution_count": 32,
      "outputs": [
        {
          "output_type": "stream",
          "name": "stdout",
          "text": [
            "File contents:\n",
            " Hello, world! This is a string written to the file.This is new data that will be appended to the file.\n",
            "\n"
          ]
        }
      ]
    },
    {
      "cell_type": "code",
      "source": [
        "# 23.  Write a Python program that writes to a log file when an error occurs during file handling ?\n",
        "\n",
        "import logging\n",
        "\n",
        "# Configure logging\n",
        "logging.basicConfig(\n",
        "    filename='file_errors.log',       # Log file name\n",
        "    level=logging.ERROR,              # Log only ERROR level and above\n",
        "    format='%(asctime)s - %(levelname)s - %(message)s'\n",
        ")\n",
        "\n",
        "def read_file(file_path):\n",
        "    try:\n",
        "        with open(file_path, 'r') as file:\n",
        "            contents = file.read()\n",
        "            print(\"File contents:\\n\", contents)\n",
        "    except Exception as e:\n",
        "        logging.error(f\"Failed to read file '{file_path}': {e}\")\n",
        "        print(\"An error occurred. Check the log file for details.\")\n",
        "\n",
        "# Example usage\n",
        "file_path = 'non_existing_file.txt'\n",
        "read_file(file_path)\n"
      ],
      "metadata": {
        "colab": {
          "base_uri": "https://localhost:8080/"
        },
        "id": "s4CanslVPtOU",
        "outputId": "bc5e0872-75c1-4142-e5d5-1491bb608320"
      },
      "execution_count": 33,
      "outputs": [
        {
          "output_type": "stream",
          "name": "stderr",
          "text": [
            "ERROR:root:Failed to read file 'non_existing_file.txt': [Errno 2] No such file or directory: 'non_existing_file.txt'\n"
          ]
        },
        {
          "output_type": "stream",
          "name": "stdout",
          "text": [
            "An error occurred. Check the log file for details.\n"
          ]
        }
      ]
    }
  ]
}